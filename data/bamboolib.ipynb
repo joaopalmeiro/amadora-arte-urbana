{
 "cells": [
  {
   "cell_type": "code",
   "execution_count": null,
   "id": "4cc49a2b-f737-4c59-8101-06827dd79069",
   "metadata": {},
   "outputs": [],
   "source": [
    "import bamboolib as bam\n",
    "import pandas as pd"
   ]
  },
  {
   "cell_type": "code",
   "execution_count": null,
   "id": "98f70ec1-a331-4264-a700-c1525cac1df5",
   "metadata": {},
   "outputs": [],
   "source": [
    "RAW_DATA = \"./arte_urbana.xlsx\""
   ]
  },
  {
   "cell_type": "code",
   "execution_count": null,
   "id": "14e91576-6052-4269-bc9a-72d0517cdcfb",
   "metadata": {},
   "outputs": [],
   "source": [
    "df = pd.read_excel(RAW_DATA, index_col=\"ID\", verbose=False, dtype={\"Data\": \"Int64\"})"
   ]
  },
  {
   "cell_type": "code",
   "execution_count": null,
   "id": "fac034b3-039d-4286-a2c6-a03c56f3a8be",
   "metadata": {},
   "outputs": [],
   "source": [
    "df"
   ]
  },
  {
   "cell_type": "markdown",
   "id": "870cc15e-8e51-488f-a932-6bee1baeb63f",
   "metadata": {},
   "source": [
    "---"
   ]
  }
 ],
 "metadata": {
  "kernelspec": {
   "display_name": "Python 3 (ipykernel)",
   "language": "python",
   "name": "python3"
  },
  "language_info": {
   "codemirror_mode": {
    "name": "ipython",
    "version": 3
   },
   "file_extension": ".py",
   "mimetype": "text/x-python",
   "name": "python",
   "nbconvert_exporter": "python",
   "pygments_lexer": "ipython3",
   "version": "3.8.12"
  }
 },
 "nbformat": 4,
 "nbformat_minor": 5
}
