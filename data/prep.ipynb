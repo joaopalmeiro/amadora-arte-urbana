{
 "cells": [
  {
   "cell_type": "code",
   "execution_count": null,
   "id": "7ce9beb2-1aad-47bf-9b9e-3357a8825f2b",
   "metadata": {},
   "outputs": [],
   "source": [
    "import janitor\n",
    "import pandas as pd\n",
    "from IPython.display import display\n",
    "\n",
    "# from pandasgui import show"
   ]
  },
  {
   "cell_type": "markdown",
   "id": "1464d474-1cda-497e-8d42-d611969bb4fd",
   "metadata": {},
   "source": [
    "- https://pandas.pydata.org/docs/reference/api/pandas.read_excel.html\n",
    "- https://pandas.pydata.org/docs/reference/api/pandas.option_context.html\n",
    "- http://geoportal.cm-amadora.pt/graffiti/Arte_Urbana/index.html\n",
    "- https://pandas.pydata.org/pandas-docs/stable/user_guide/integer_na.html\n",
    "- https://stackoverflow.com/questions/39903090/efficiently-replace-values-from-a-column-to-another-column-pandas-dataframe\n",
    "- https://pyjanitor-devs.github.io/pyjanitor/api/functions/\n",
    "- https://ciberduvidas.iscte-iul.pt/consultorio/perguntas/o-uso-das-aspas--e-/13051\n",
    "- https://justica.gov.pt/sdj/Normas-dos-servicos-digitais/Criacao-de-Conteudos/Livro-de-Estilo/Regras-e-coerencia#Respeitaralgumasregrasquandousamosaspas"
   ]
  },
  {
   "cell_type": "code",
   "execution_count": null,
   "id": "e6b18708-edfd-4278-84aa-866eeeac6bee",
   "metadata": {},
   "outputs": [],
   "source": [
    "RAW_DATA = \"./arte_urbana.xlsx\"\n",
    "OUTPUT_DATA = \"../src/data.json\""
   ]
  },
  {
   "cell_type": "code",
   "execution_count": null,
   "id": "4ee70494-1fea-4bb9-851c-f00e7186afa8",
   "metadata": {},
   "outputs": [],
   "source": [
    "df = pd.read_excel(\n",
    "    RAW_DATA,\n",
    "    # index_col=\"ID\",\n",
    "    verbose=True,\n",
    "    dtype={\"Data\": \"Int64\"},\n",
    ")"
   ]
  },
  {
   "cell_type": "code",
   "execution_count": null,
   "id": "9e5e5757-dfc9-4f60-b67d-ca8a834d71b7",
   "metadata": {},
   "outputs": [],
   "source": [
    "# show(df)"
   ]
  },
  {
   "cell_type": "code",
   "execution_count": null,
   "id": "70b49ec8-f1cc-415b-9b29-0b73270e0674",
   "metadata": {},
   "outputs": [],
   "source": [
    "df.head()"
   ]
  },
  {
   "cell_type": "code",
   "execution_count": null,
   "id": "305be10c-6ace-433c-81d9-d518adbbc548",
   "metadata": {},
   "outputs": [],
   "source": [
    "df.tail()"
   ]
  },
  {
   "cell_type": "code",
   "execution_count": null,
   "id": "8763e7dc-35af-460b-bbdd-57d8460dbd6f",
   "metadata": {},
   "outputs": [],
   "source": [
    "df.shape"
   ]
  },
  {
   "cell_type": "code",
   "execution_count": null,
   "id": "6e94558d-4960-4f32-b2f2-bcecbf9fd915",
   "metadata": {},
   "outputs": [],
   "source": [
    "df.dtypes"
   ]
  },
  {
   "cell_type": "code",
   "execution_count": null,
   "id": "d84c5a63-a762-4769-aee5-a051e3ff9b95",
   "metadata": {},
   "outputs": [],
   "source": [
    "df.isna().sum()"
   ]
  },
  {
   "cell_type": "code",
   "execution_count": null,
   "id": "3b68dfc9-e0c1-470c-9661-b84e216439fd",
   "metadata": {},
   "outputs": [],
   "source": [
    "df[\"name\"].unique()"
   ]
  },
  {
   "cell_type": "code",
   "execution_count": null,
   "id": "0d269bae-be15-42f5-9754-4265b3b3a299",
   "metadata": {},
   "outputs": [],
   "source": [
    "df[\"Autoria\"].unique()"
   ]
  },
  {
   "cell_type": "code",
   "execution_count": null,
   "id": "c8621df2-2555-4259-bec9-9bf3497eaf59",
   "metadata": {},
   "outputs": [],
   "source": [
    "df[\"Freguesia\"].unique()"
   ]
  },
  {
   "cell_type": "code",
   "execution_count": null,
   "id": "dc549dbc-1a59-4fb6-80d2-12a510543a45",
   "metadata": {},
   "outputs": [],
   "source": [
    "df[\"Tipologia\"].unique()"
   ]
  },
  {
   "cell_type": "code",
   "execution_count": null,
   "id": "acc7eebb-cda4-4c1b-b44d-1abe6c8768cb",
   "metadata": {},
   "outputs": [],
   "source": [
    "df[\"Localizacao\"].unique()"
   ]
  },
  {
   "cell_type": "code",
   "execution_count": null,
   "id": "4ddc51b8-8d4a-4394-b65b-f88a5bc09ee0",
   "metadata": {},
   "outputs": [],
   "source": [
    "with pd.option_context(\"display.max_rows\", None):\n",
    "    display(df[\"Autoria\"].value_counts(dropna=False))"
   ]
  },
  {
   "cell_type": "code",
   "execution_count": null,
   "id": "6c114204-75fd-40a2-8fcc-c29e078c4970",
   "metadata": {},
   "outputs": [],
   "source": [
    "with pd.option_context(\"display.max_rows\", None):\n",
    "    display(df[\"Data\"].value_counts(dropna=False))"
   ]
  },
  {
   "cell_type": "code",
   "execution_count": null,
   "id": "55acb1b7-d70b-4390-8def-1f36c7bea68f",
   "metadata": {},
   "outputs": [],
   "source": [
    "with pd.option_context(\"display.max_rows\", None):\n",
    "    display(df[\"Tipologia\"].value_counts(dropna=False))"
   ]
  },
  {
   "cell_type": "code",
   "execution_count": null,
   "id": "f0ba8723-5a95-4f27-8b40-27350598f4c7",
   "metadata": {},
   "outputs": [],
   "source": [
    "# https://www.cm-amadora.pt/municipio/juntas-de-freguesia.html\n",
    "# https://pt.wikipedia.org/wiki/Amadora#Divis%C3%A3o_administrativa_-_Freguesias\n",
    "# 5/6 (no Alfragide)\n",
    "\n",
    "with pd.option_context(\"display.max_rows\", None):\n",
    "    display(df[\"Freguesia\"].value_counts(dropna=False))"
   ]
  },
  {
   "cell_type": "code",
   "execution_count": null,
   "id": "952f04fe-cc53-40b7-9fec-e954f70c379b",
   "metadata": {},
   "outputs": [],
   "source": [
    "df.loc[df[\"Data\"].isna(), \"Descricao\"].to_list()"
   ]
  },
  {
   "cell_type": "code",
   "execution_count": null,
   "id": "52676a41-18a4-45a5-b144-24b4631db8d6",
   "metadata": {},
   "outputs": [],
   "source": [
    "df[\"Descricao\"].head()"
   ]
  },
  {
   "cell_type": "code",
   "execution_count": null,
   "id": "abb97653-3d0b-47c5-80b3-e5127837aa7f",
   "metadata": {},
   "outputs": [],
   "source": [
    "with pd.option_context(\"display.max_colwidth\", None):\n",
    "    display(df.query(\"Autoria == 'Vários'\"))"
   ]
  },
  {
   "cell_type": "code",
   "execution_count": null,
   "id": "27de350c-d543-414d-b963-7ff5db2d6c19",
   "metadata": {},
   "outputs": [],
   "source": [
    "# APAURB: Associação Portuguesa de Arte Urbana (Portuguese Association of Urban Art)\n",
    "\n",
    "df[df[\"Autoria\"].str.contains(\"APAURB\")].head()"
   ]
  },
  {
   "cell_type": "code",
   "execution_count": null,
   "id": "3f972ed1-6197-4ed2-81a4-b662710f9591",
   "metadata": {},
   "outputs": [],
   "source": [
    "# cols = [\"name\", \"Autoria\", \"Descricao\"]\n",
    "cols = [\"Autoria\", \"Data\", \"Descricao\"]\n",
    "\n",
    "with pd.option_context(\"display.max_rows\", None, \"display.max_colwidth\", None):\n",
    "    display(df[cols])"
   ]
  },
  {
   "cell_type": "markdown",
   "id": "74e1c87c-89da-4364-b43a-57e4e8efccf7",
   "metadata": {},
   "source": [
    "## Data Processing"
   ]
  },
  {
   "cell_type": "code",
   "execution_count": null,
   "id": "943ccea2-b54f-4d60-a5a5-f54ee2620641",
   "metadata": {},
   "outputs": [],
   "source": [
    "df = df.clean_names()\n",
    "# df.columns"
   ]
  },
  {
   "cell_type": "code",
   "execution_count": null,
   "id": "f6986e26-4278-409a-b667-79e8dc628892",
   "metadata": {},
   "outputs": [],
   "source": [
    "df[\"autoria\"] = df[\"autoria\"].str.replace(\"\\s/\\s\", \"/\", regex=True)"
   ]
  },
  {
   "cell_type": "code",
   "execution_count": null,
   "id": "ae359a72-a862-41de-89f1-c7534dc0147b",
   "metadata": {},
   "outputs": [],
   "source": [
    "# https://regex101.com/\n",
    "\n",
    "varios_condition = df[\"autoria\"] == \"Vários\"\n",
    "# varios_value = df[\"descricao\"].str.split(\"(\").str[0]\n",
    "varios_value = df[\"descricao\"].str.extract(r\"^(.+)\\s\\(\\d{4}\\)\\.\", expand=False)\n",
    "\n",
    "apaurb_condition = df[\"autoria\"] == \"APAURB (artistas:Slap, Uber, Kurtz, Ephan e Dome)\"\n",
    "apaurb_value = df[\"autoria\"].str.extract(r\"\\(artistas:(.+)\\)\", expand=False)\n",
    "\n",
    "default_value = pd.NA\n",
    "\n",
    "df = df.case_when(\n",
    "    varios_condition,\n",
    "    varios_value,\n",
    "    apaurb_condition,\n",
    "    apaurb_value,\n",
    "    default_value,\n",
    "    column_name=\"autoria_extra\",\n",
    ")"
   ]
  },
  {
   "cell_type": "code",
   "execution_count": null,
   "id": "148887e3-ac3c-43a7-992c-1d7bb3eec671",
   "metadata": {},
   "outputs": [],
   "source": [
    "df.loc[df[\"autoria\"].str.startswith(\"APAURB\"), \"autoria\"] = \"APAURB\""
   ]
  },
  {
   "cell_type": "code",
   "execution_count": null,
   "id": "7c3cbda4-afee-429a-a1fa-1040a2cde028",
   "metadata": {},
   "outputs": [],
   "source": [
    "# with pd.option_context(\"display.max_rows\", None, \"display.max_colwidth\", None):\n",
    "#     display(df[\"descricao\"].str.split(\".\", n=1, expand=True, regex=False))"
   ]
  },
  {
   "cell_type": "code",
   "execution_count": null,
   "id": "ba2e3cdc-5f42-4e0e-8e0e-28aae252007a",
   "metadata": {},
   "outputs": [],
   "source": [
    "author_year_condition = ~df[\"data\"].isna()\n",
    "author_year_value = df[\"descricao\"].str.replace(r\"^(.+)\\s\\(\\d{4}\\)\\.?\", \"\", regex=True)\n",
    "\n",
    "author_condition = df[\"data\"].isna()\n",
    "author_value = df[\"descricao\"].str.replace(r\"^([\\w &/]+)\\.\", \"\", regex=True)\n",
    "\n",
    "default_value = pd.NA\n",
    "\n",
    "df = df.case_when(\n",
    "    author_year_condition,\n",
    "    author_year_value,\n",
    "    author_condition,\n",
    "    author_value,\n",
    "    default_value,\n",
    "    column_name=\"descricao\",\n",
    ")"
   ]
  },
  {
   "cell_type": "code",
   "execution_count": null,
   "id": "fad1e123-0338-4503-92a8-9cb8269a14a3",
   "metadata": {},
   "outputs": [],
   "source": [
    "# cols = [\"autoria\", \"data\", \"descricao\"]\n",
    "\n",
    "# with pd.option_context(\"display.max_rows\", None, \"display.max_colwidth\", None):\n",
    "#     display(df[cols])"
   ]
  },
  {
   "cell_type": "markdown",
   "id": "6aa953ef-b52c-4a6b-be09-835e3bf36e84",
   "metadata": {},
   "source": [
    "**Quotation marks**\n",
    "\n",
    "- « »\n",
    "- “ ”"
   ]
  },
  {
   "cell_type": "code",
   "execution_count": null,
   "id": "be639796-e38f-4316-9ddf-30cee0c5fa5c",
   "metadata": {},
   "outputs": [],
   "source": [
    "# df[\"descricao\"] = df[\"descricao\"].str.replace(\"\\\"\\\"\", \"\\\"\", regex=False)"
   ]
  },
  {
   "cell_type": "code",
   "execution_count": null,
   "id": "5a652ef6-6e32-4c8a-a7f6-2f4848c7e085",
   "metadata": {},
   "outputs": [],
   "source": [
    "# \"“\" == \"”\""
   ]
  },
  {
   "cell_type": "code",
   "execution_count": null,
   "id": "e12a5232-fb75-4110-9a38-a777a7cebea2",
   "metadata": {
    "scrolled": true,
    "tags": []
   },
   "outputs": [],
   "source": [
    "with pd.option_context(\"display.max_rows\", None, \"display.max_colwidth\", None):\n",
    "    display(df[[\"id\", \"descricao\"]])"
   ]
  },
  {
   "cell_type": "code",
   "execution_count": null,
   "id": "b9e4d528-97d8-4178-8c97-a5a4995e233d",
   "metadata": {},
   "outputs": [],
   "source": [
    "citation_double_ids = [1, 3, 28, 35]  # \"\" \"\"\n",
    "citation_quotes_ids = [9, 15, 17, 19, 25, 47, 48]  # “ .”\n",
    "citation_quotes_period_ids = [6]  # “ ”\n",
    "\n",
    "citation_double_condition = df[\"id\"].isin(citation_double_ids)\n",
    "citation_quotes_condition = df[\"id\"].isin(citation_quotes_ids)\n",
    "citation_quotes_period_condition = df[\"id\"].isin(citation_quotes_period_ids)"
   ]
  },
  {
   "cell_type": "code",
   "execution_count": null,
   "id": "921254fc-4bc1-4655-a6b3-7e4f3fc56552",
   "metadata": {},
   "outputs": [],
   "source": [
    "citation_double_value_1 = df[\"descricao\"].str.replace('\"\"', \"«\", regex=False, n=1)\n",
    "citation_quotes_value_1 = df[\"descricao\"].str.replace(\"“\", \"«\", regex=False, n=1)\n",
    "citation_quotes_period_value_1 = df[\"descricao\"].str.replace(\"“\", \"«\", regex=False, n=1)\n",
    "\n",
    "df = df.case_when(\n",
    "    citation_double_condition,\n",
    "    citation_double_value_1,\n",
    "    citation_quotes_condition,\n",
    "    citation_quotes_value_1,\n",
    "    citation_quotes_period_condition,\n",
    "    citation_quotes_period_value_1,\n",
    "    df[\"descricao\"],\n",
    "    column_name=\"descricao\",\n",
    ")\n",
    "# df.head()"
   ]
  },
  {
   "cell_type": "code",
   "execution_count": null,
   "id": "caa6db66-53e0-4af6-9eee-64bd648b6260",
   "metadata": {},
   "outputs": [],
   "source": [
    "citation_double_value_2 = df[\"descricao\"].str.replace('\"\"', \"»\", regex=False, n=1)\n",
    "citation_quotes_value_2 = df[\"descricao\"].str.replace(\"”\", \"»\", regex=False, n=1)\n",
    "citation_quotes_period_value_2 = df[\"descricao\"].str.replace(\n",
    "    \"”\", \".»\", regex=False, n=1\n",
    ")\n",
    "\n",
    "df = df.case_when(\n",
    "    citation_double_condition,\n",
    "    citation_double_value_2,\n",
    "    citation_quotes_condition,\n",
    "    citation_quotes_value_2,\n",
    "    citation_quotes_period_condition,\n",
    "    citation_quotes_period_value_2,\n",
    "    df[\"descricao\"],\n",
    "    column_name=\"descricao\",\n",
    ")\n",
    "# df.head()"
   ]
  },
  {
   "cell_type": "code",
   "execution_count": null,
   "id": "20050c91-21b2-46a5-a68a-58a9d4acdd97",
   "metadata": {},
   "outputs": [],
   "source": [
    "df[\"descricao\"] = df[\"descricao\"].str.strip()\n",
    "df[\"name\"] = df[\"name\"].str.strip()\n",
    "df[\"autoria\"] = df[\"autoria\"].str.strip()"
   ]
  },
  {
   "cell_type": "markdown",
   "id": "6896ec80-cac0-448d-a2fa-7ea5fe90773c",
   "metadata": {},
   "source": [
    "## Output"
   ]
  },
  {
   "cell_type": "code",
   "execution_count": null,
   "id": "32fa029c-9fb4-4bc6-aadb-d80e48f1d3da",
   "metadata": {},
   "outputs": [],
   "source": [
    "# indent = 2\n",
    "indent = 4\n",
    "\n",
    "df.to_json(OUTPUT_DATA, orient=\"records\", force_ascii=False, indent=indent)"
   ]
  },
  {
   "cell_type": "markdown",
   "id": "4c87cd8a-a3a0-4df1-b01e-d5304aa48e0c",
   "metadata": {},
   "source": [
    "---"
   ]
  }
 ],
 "metadata": {
  "kernelspec": {
   "display_name": "Python 3 (ipykernel)",
   "language": "python",
   "name": "python3"
  },
  "language_info": {
   "codemirror_mode": {
    "name": "ipython",
    "version": 3
   },
   "file_extension": ".py",
   "mimetype": "text/x-python",
   "name": "python",
   "nbconvert_exporter": "python",
   "pygments_lexer": "ipython3",
   "version": "3.8.12"
  }
 },
 "nbformat": 4,
 "nbformat_minor": 5
}
