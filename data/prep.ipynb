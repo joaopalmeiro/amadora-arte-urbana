{
 "cells": [
  {
   "cell_type": "code",
   "execution_count": null,
   "id": "7ce9beb2-1aad-47bf-9b9e-3357a8825f2b",
   "metadata": {},
   "outputs": [],
   "source": [
    "import pandas as pd\n",
    "from IPython.display import display\n",
    "\n",
    "# from pandasgui import show"
   ]
  },
  {
   "cell_type": "markdown",
   "id": "1464d474-1cda-497e-8d42-d611969bb4fd",
   "metadata": {},
   "source": [
    "- https://pandas.pydata.org/docs/reference/api/pandas.read_excel.html\n",
    "- https://pandas.pydata.org/docs/reference/api/pandas.option_context.html\n",
    "- http://geoportal.cm-amadora.pt/graffiti/Arte_Urbana/index.html\n",
    "- https://pandas.pydata.org/pandas-docs/stable/user_guide/integer_na.html\n",
    "- https://stackoverflow.com/questions/39903090/efficiently-replace-values-from-a-column-to-another-column-pandas-dataframe\n",
    "- https://pyjanitor-devs.github.io/pyjanitor/api/functions/"
   ]
  },
  {
   "cell_type": "code",
   "execution_count": null,
   "id": "e6b18708-edfd-4278-84aa-866eeeac6bee",
   "metadata": {},
   "outputs": [],
   "source": [
    "RAW_DATA = \"./arte_urbana.xlsx\"\n",
    "OUTPUT_DATA = \"../src/data.json\""
   ]
  },
  {
   "cell_type": "code",
   "execution_count": null,
   "id": "4ee70494-1fea-4bb9-851c-f00e7186afa8",
   "metadata": {},
   "outputs": [],
   "source": [
    "df = pd.read_excel(RAW_DATA, index_col=\"ID\", verbose=True, dtype={\"Data\": \"Int64\"})"
   ]
  },
  {
   "cell_type": "code",
   "execution_count": null,
   "id": "9e5e5757-dfc9-4f60-b67d-ca8a834d71b7",
   "metadata": {},
   "outputs": [],
   "source": [
    "# show(df)"
   ]
  },
  {
   "cell_type": "code",
   "execution_count": null,
   "id": "70b49ec8-f1cc-415b-9b29-0b73270e0674",
   "metadata": {},
   "outputs": [],
   "source": [
    "df.head()"
   ]
  },
  {
   "cell_type": "code",
   "execution_count": null,
   "id": "305be10c-6ace-433c-81d9-d518adbbc548",
   "metadata": {},
   "outputs": [],
   "source": [
    "df.tail()"
   ]
  },
  {
   "cell_type": "code",
   "execution_count": null,
   "id": "8763e7dc-35af-460b-bbdd-57d8460dbd6f",
   "metadata": {},
   "outputs": [],
   "source": [
    "df.shape"
   ]
  },
  {
   "cell_type": "code",
   "execution_count": null,
   "id": "6e94558d-4960-4f32-b2f2-bcecbf9fd915",
   "metadata": {},
   "outputs": [],
   "source": [
    "df.dtypes"
   ]
  },
  {
   "cell_type": "code",
   "execution_count": null,
   "id": "d84c5a63-a762-4769-aee5-a051e3ff9b95",
   "metadata": {},
   "outputs": [],
   "source": [
    "df.isna().sum()"
   ]
  },
  {
   "cell_type": "code",
   "execution_count": null,
   "id": "4ddc51b8-8d4a-4394-b65b-f88a5bc09ee0",
   "metadata": {},
   "outputs": [],
   "source": [
    "with pd.option_context(\"display.max_rows\", None):\n",
    "    display(df[\"Autoria\"].value_counts(dropna=False))"
   ]
  },
  {
   "cell_type": "code",
   "execution_count": null,
   "id": "6c114204-75fd-40a2-8fcc-c29e078c4970",
   "metadata": {},
   "outputs": [],
   "source": [
    "with pd.option_context(\"display.max_rows\", None):\n",
    "    display(df[\"Data\"].value_counts(dropna=False))"
   ]
  },
  {
   "cell_type": "code",
   "execution_count": null,
   "id": "55acb1b7-d70b-4390-8def-1f36c7bea68f",
   "metadata": {},
   "outputs": [],
   "source": [
    "with pd.option_context(\"display.max_rows\", None):\n",
    "    display(df[\"Tipologia\"].value_counts(dropna=False))"
   ]
  },
  {
   "cell_type": "code",
   "execution_count": null,
   "id": "f0ba8723-5a95-4f27-8b40-27350598f4c7",
   "metadata": {},
   "outputs": [],
   "source": [
    "# https://www.cm-amadora.pt/municipio/juntas-de-freguesia.html\n",
    "# https://pt.wikipedia.org/wiki/Amadora#Divis%C3%A3o_administrativa_-_Freguesias\n",
    "# 5/6 (no Alfragide)\n",
    "\n",
    "with pd.option_context(\"display.max_rows\", None):\n",
    "    display(df[\"Freguesia\"].value_counts(dropna=False))"
   ]
  },
  {
   "cell_type": "code",
   "execution_count": null,
   "id": "952f04fe-cc53-40b7-9fec-e954f70c379b",
   "metadata": {},
   "outputs": [],
   "source": [
    "df.loc[df[\"Data\"].isna(), \"Descricao\"].to_list()"
   ]
  },
  {
   "cell_type": "code",
   "execution_count": null,
   "id": "52676a41-18a4-45a5-b144-24b4631db8d6",
   "metadata": {},
   "outputs": [],
   "source": [
    "df[\"Descricao\"].head()"
   ]
  },
  {
   "cell_type": "code",
   "execution_count": null,
   "id": "abb97653-3d0b-47c5-80b3-e5127837aa7f",
   "metadata": {},
   "outputs": [],
   "source": [
    "df.query(\"Autoria == 'Vários'\")"
   ]
  },
  {
   "cell_type": "code",
   "execution_count": null,
   "id": "27de350c-d543-414d-b963-7ff5db2d6c19",
   "metadata": {},
   "outputs": [],
   "source": [
    "# APAURB: Associação Portuguesa de Arte Urbana (Portuguese Association of Urban Art)\n",
    "\n",
    "df[df[\"Autoria\"].str.contains(\"APAURB\")].head()"
   ]
  },
  {
   "cell_type": "code",
   "execution_count": null,
   "id": "3f972ed1-6197-4ed2-81a4-b662710f9591",
   "metadata": {},
   "outputs": [],
   "source": [
    "# cols = [\"name\", \"Autoria\", \"Descricao\"]\n",
    "cols = [\"Autoria\", \"Data\", \"Descricao\"]\n",
    "\n",
    "with pd.option_context(\"display.max_rows\", None, \"display.max_colwidth\", None):\n",
    "    display(df[cols])"
   ]
  },
  {
   "cell_type": "markdown",
   "id": "74e1c87c-89da-4364-b43a-57e4e8efccf7",
   "metadata": {},
   "source": [
    "## Data Processing"
   ]
  },
  {
   "cell_type": "code",
   "execution_count": null,
   "id": "f6986e26-4278-409a-b667-79e8dc628892",
   "metadata": {},
   "outputs": [],
   "source": [
    "df[\"Autoria\"] = df[\"Autoria\"].str.replace(\"\\s/\\s\", \"/\", regex=True)"
   ]
  },
  {
   "cell_type": "code",
   "execution_count": null,
   "id": "7c3cbda4-afee-429a-a1fa-1040a2cde028",
   "metadata": {},
   "outputs": [],
   "source": [
    "# with pd.option_context(\"display.max_rows\", None, \"display.max_colwidth\", None):\n",
    "#     display(df[\"Descricao\"].str.split(\".\", n=1, expand=True, regex=False))"
   ]
  },
  {
   "cell_type": "markdown",
   "id": "6896ec80-cac0-448d-a2fa-7ea5fe90773c",
   "metadata": {},
   "source": [
    "## Output"
   ]
  },
  {
   "cell_type": "code",
   "execution_count": null,
   "id": "32fa029c-9fb4-4bc6-aadb-d80e48f1d3da",
   "metadata": {},
   "outputs": [],
   "source": [
    "# indent = 2\n",
    "indent = 4\n",
    "\n",
    "df.to_json(OUTPUT_DATA, orient=\"records\", force_ascii=False, indent=indent)"
   ]
  },
  {
   "cell_type": "markdown",
   "id": "4c87cd8a-a3a0-4df1-b01e-d5304aa48e0c",
   "metadata": {},
   "source": [
    "---"
   ]
  }
 ],
 "metadata": {
  "kernelspec": {
   "display_name": "Python 3 (ipykernel)",
   "language": "python",
   "name": "python3"
  },
  "language_info": {
   "codemirror_mode": {
    "name": "ipython",
    "version": 3
   },
   "file_extension": ".py",
   "mimetype": "text/x-python",
   "name": "python",
   "nbconvert_exporter": "python",
   "pygments_lexer": "ipython3",
   "version": "3.8.12"
  }
 },
 "nbformat": 4,
 "nbformat_minor": 5
}
