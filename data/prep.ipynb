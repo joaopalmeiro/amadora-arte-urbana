{
 "cells": [
  {
   "cell_type": "code",
   "execution_count": null,
   "id": "7ce9beb2-1aad-47bf-9b9e-3357a8825f2b",
   "metadata": {},
   "outputs": [],
   "source": [
    "import pandas as pd\n",
    "from IPython.display import display\n",
    "from pandasgui import show"
   ]
  },
  {
   "cell_type": "markdown",
   "id": "1464d474-1cda-497e-8d42-d611969bb4fd",
   "metadata": {},
   "source": [
    "- https://pandas.pydata.org/docs/reference/api/pandas.read_excel.html\n",
    "- https://pandas.pydata.org/docs/reference/api/pandas.option_context.html\n",
    "- http://geoportal.cm-amadora.pt/graffiti/Arte_Urbana/index.html"
   ]
  },
  {
   "cell_type": "code",
   "execution_count": null,
   "id": "e6b18708-edfd-4278-84aa-866eeeac6bee",
   "metadata": {},
   "outputs": [],
   "source": [
    "RAW_DATA = \"./arte_urbana.xlsx\"\n",
    "OUTPUT_DATA = \"../src/data.json\""
   ]
  },
  {
   "cell_type": "code",
   "execution_count": null,
   "id": "4ee70494-1fea-4bb9-851c-f00e7186afa8",
   "metadata": {},
   "outputs": [],
   "source": [
    "df = pd.read_excel(RAW_DATA, index_col=\"ID\", verbose=True, dtype={\"Data\": str})"
   ]
  },
  {
   "cell_type": "code",
   "execution_count": null,
   "id": "70b49ec8-f1cc-415b-9b29-0b73270e0674",
   "metadata": {},
   "outputs": [],
   "source": [
    "df.head()"
   ]
  },
  {
   "cell_type": "code",
   "execution_count": null,
   "id": "305be10c-6ace-433c-81d9-d518adbbc548",
   "metadata": {},
   "outputs": [],
   "source": [
    "df.tail()"
   ]
  },
  {
   "cell_type": "code",
   "execution_count": null,
   "id": "8763e7dc-35af-460b-bbdd-57d8460dbd6f",
   "metadata": {},
   "outputs": [],
   "source": [
    "df.shape"
   ]
  },
  {
   "cell_type": "code",
   "execution_count": null,
   "id": "6e94558d-4960-4f32-b2f2-bcecbf9fd915",
   "metadata": {},
   "outputs": [],
   "source": [
    "df.dtypes"
   ]
  },
  {
   "cell_type": "code",
   "execution_count": null,
   "id": "d84c5a63-a762-4769-aee5-a051e3ff9b95",
   "metadata": {},
   "outputs": [],
   "source": [
    "df.isna().sum()"
   ]
  },
  {
   "cell_type": "code",
   "execution_count": null,
   "id": "4ddc51b8-8d4a-4394-b65b-f88a5bc09ee0",
   "metadata": {},
   "outputs": [],
   "source": [
    "with pd.option_context(\"display.max_rows\", None):\n",
    "    display(df[\"Autoria\"].value_counts(dropna=False))"
   ]
  },
  {
   "cell_type": "code",
   "execution_count": null,
   "id": "6c114204-75fd-40a2-8fcc-c29e078c4970",
   "metadata": {},
   "outputs": [],
   "source": [
    "with pd.option_context(\"display.max_rows\", None):\n",
    "    display(df[\"Data\"].value_counts(dropna=False))"
   ]
  },
  {
   "cell_type": "code",
   "execution_count": null,
   "id": "952f04fe-cc53-40b7-9fec-e954f70c379b",
   "metadata": {},
   "outputs": [],
   "source": [
    "df.loc[df[\"Data\"].isna(), \"Descricao\"].to_list()"
   ]
  },
  {
   "cell_type": "markdown",
   "id": "74e1c87c-89da-4364-b43a-57e4e8efccf7",
   "metadata": {},
   "source": [
    "## Data Processing"
   ]
  },
  {
   "cell_type": "code",
   "execution_count": null,
   "id": "f6986e26-4278-409a-b667-79e8dc628892",
   "metadata": {},
   "outputs": [],
   "source": [
    "# df[\"Autoria\"] = df[\"Autoria\"].str.replace(\"artistas:\", \"\", regex=False)\n",
    "# df[\"Autoria\"] = df[\"Autoria\"].str.replace(\"\\s/\\s\", \"/\", regex=True)"
   ]
  },
  {
   "cell_type": "markdown",
   "id": "6896ec80-cac0-448d-a2fa-7ea5fe90773c",
   "metadata": {},
   "source": [
    "## Output"
   ]
  },
  {
   "cell_type": "code",
   "execution_count": null,
   "id": "32fa029c-9fb4-4bc6-aadb-d80e48f1d3da",
   "metadata": {},
   "outputs": [],
   "source": [
    "indent = 2\n",
    "\n",
    "df.to_json(OUTPUT_DATA, orient=\"records\", force_ascii=False, indent=indent)"
   ]
  },
  {
   "cell_type": "markdown",
   "id": "4c87cd8a-a3a0-4df1-b01e-d5304aa48e0c",
   "metadata": {},
   "source": [
    "---"
   ]
  }
 ],
 "metadata": {
  "kernelspec": {
   "display_name": "Python 3 (ipykernel)",
   "language": "python",
   "name": "python3"
  },
  "language_info": {
   "codemirror_mode": {
    "name": "ipython",
    "version": 3
   },
   "file_extension": ".py",
   "mimetype": "text/x-python",
   "name": "python",
   "nbconvert_exporter": "python",
   "pygments_lexer": "ipython3",
   "version": "3.8.12"
  }
 },
 "nbformat": 4,
 "nbformat_minor": 5
}
