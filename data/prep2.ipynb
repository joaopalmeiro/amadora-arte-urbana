{
 "cells": [
  {
   "cell_type": "code",
   "execution_count": null,
   "id": "596aad1b-3339-4680-9496-cb56d369b6b1",
   "metadata": {},
   "outputs": [],
   "source": [
    "import janitor\n",
    "import pandas as pd"
   ]
  },
  {
   "cell_type": "code",
   "execution_count": null,
   "id": "3f6f4ef6-6d56-417f-b8df-6b4839d81478",
   "metadata": {},
   "outputs": [],
   "source": [
    "RAW_DATA = \"./arte_urbana_manual.xlsx\"\n",
    "OUTPUT_DATA = \"../src/data.json\""
   ]
  },
  {
   "cell_type": "code",
   "execution_count": null,
   "id": "20804a09-0f63-415f-befc-32b471cdf51c",
   "metadata": {},
   "outputs": [],
   "source": [
    "df = pd.read_excel(\n",
    "    RAW_DATA,\n",
    "    # index_col=\"ID\",\n",
    "    verbose=True,\n",
    "    dtype={\"Data\": \"Int64\"},\n",
    ")"
   ]
  },
  {
   "cell_type": "code",
   "execution_count": null,
   "id": "68e23153-532f-4d9c-a736-60800119a942",
   "metadata": {},
   "outputs": [],
   "source": [
    "df.head()"
   ]
  },
  {
   "cell_type": "code",
   "execution_count": null,
   "id": "b641a418-73de-4092-a628-316ca790138a",
   "metadata": {},
   "outputs": [],
   "source": [
    "df.shape"
   ]
  },
  {
   "cell_type": "markdown",
   "id": "019ba1fa-4ab9-4334-bdfa-65d300d93396",
   "metadata": {},
   "source": [
    "http://geoportal.cm-amadora.pt/graffiti/Arte_Urbana/index.html\n",
    "\n",
    "**Quotation marks**\n",
    "\n",
    "- «\n",
    "- »\n",
    "- “\n",
    "- ”"
   ]
  },
  {
   "cell_type": "code",
   "execution_count": null,
   "id": "20252ad3-ef8f-4011-b979-919bc053c515",
   "metadata": {},
   "outputs": [],
   "source": [
    "df[\"Descricao_manual\"].to_list()"
   ]
  },
  {
   "cell_type": "code",
   "execution_count": null,
   "id": "7d9c0835-0e2c-470e-826c-7fdf28c99692",
   "metadata": {},
   "outputs": [],
   "source": [
    "indent = 4\n",
    "\n",
    "# df.to_json(OUTPUT_DATA, orient=\"records\", force_ascii=False, indent=indent)"
   ]
  },
  {
   "cell_type": "markdown",
   "id": "19afaa17-906a-4ac2-9fc9-1a9bdd3a68f7",
   "metadata": {},
   "source": [
    "---"
   ]
  }
 ],
 "metadata": {
  "kernelspec": {
   "display_name": "Python 3 (ipykernel)",
   "language": "python",
   "name": "python3"
  },
  "language_info": {
   "codemirror_mode": {
    "name": "ipython",
    "version": 3
   },
   "file_extension": ".py",
   "mimetype": "text/x-python",
   "name": "python",
   "nbconvert_exporter": "python",
   "pygments_lexer": "ipython3",
   "version": "3.8.12"
  }
 },
 "nbformat": 4,
 "nbformat_minor": 5
}
