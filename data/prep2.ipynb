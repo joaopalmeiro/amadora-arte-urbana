{
 "cells": [
  {
   "cell_type": "code",
   "execution_count": null,
   "id": "596aad1b-3339-4680-9496-cb56d369b6b1",
   "metadata": {},
   "outputs": [],
   "source": [
    "import janitor\n",
    "import pandas as pd"
   ]
  },
  {
   "cell_type": "code",
   "execution_count": null,
   "id": "3f6f4ef6-6d56-417f-b8df-6b4839d81478",
   "metadata": {},
   "outputs": [],
   "source": [
    "RAW_DATA = \"./arte_urbana_manual.xlsx\"\n",
    "OUTPUT_DATA = \"../src/data.json\""
   ]
  },
  {
   "cell_type": "code",
   "execution_count": null,
   "id": "20804a09-0f63-415f-befc-32b471cdf51c",
   "metadata": {},
   "outputs": [],
   "source": [
    "df = pd.read_excel(\n",
    "    RAW_DATA,\n",
    "    # index_col=\"ID\",\n",
    "    verbose=True,\n",
    "    dtype={\"Data\": \"Int64\"},\n",
    ")"
   ]
  },
  {
   "cell_type": "code",
   "execution_count": null,
   "id": "68e23153-532f-4d9c-a736-60800119a942",
   "metadata": {},
   "outputs": [],
   "source": [
    "df.head()"
   ]
  },
  {
   "cell_type": "code",
   "execution_count": null,
   "id": "b641a418-73de-4092-a628-316ca790138a",
   "metadata": {},
   "outputs": [],
   "source": [
    "df.shape"
   ]
  },
  {
   "cell_type": "markdown",
   "id": "019ba1fa-4ab9-4334-bdfa-65d300d93396",
   "metadata": {},
   "source": [
    "http://geoportal.cm-amadora.pt/graffiti/Arte_Urbana/index.html\n",
    "\n",
    "**Quotation marks**\n",
    "\n",
    "- «\n",
    "- »\n",
    "- “\n",
    "- ”"
   ]
  },
  {
   "cell_type": "code",
   "execution_count": null,
   "id": "20252ad3-ef8f-4011-b979-919bc053c515",
   "metadata": {},
   "outputs": [],
   "source": [
    "df[\"Descricao_manual\"].to_list()"
   ]
  },
  {
   "cell_type": "code",
   "execution_count": null,
   "id": "4d6e3918-4d25-4a49-b295-a7520ef54a42",
   "metadata": {},
   "outputs": [],
   "source": [
    "df.isna().sum()"
   ]
  },
  {
   "cell_type": "code",
   "execution_count": null,
   "id": "e7d5e2a1-bdc6-4621-9055-7041f11b8582",
   "metadata": {},
   "outputs": [],
   "source": [
    "df = df.clean_names()"
   ]
  },
  {
   "cell_type": "code",
   "execution_count": null,
   "id": "1f3c1c46-872a-42a3-9e10-c7122c961a88",
   "metadata": {},
   "outputs": [],
   "source": [
    "df.columns"
   ]
  },
  {
   "cell_type": "code",
   "execution_count": null,
   "id": "2d288825-7d19-4516-ba08-3bcd5af6e9a0",
   "metadata": {},
   "outputs": [],
   "source": [
    "df.loc[df[\"autoria\"].str.startswith(\"APAURB\"), \"autoria\"] = \"APAURB\""
   ]
  },
  {
   "cell_type": "code",
   "execution_count": null,
   "id": "5ebb3d05-a96e-4d45-b432-486ac647923c",
   "metadata": {},
   "outputs": [],
   "source": [
    "df[\"name\"] = df[\"name\"].str.strip()\n",
    "df[\"autoria\"] = df[\"autoria\"].str.strip()"
   ]
  },
  {
   "cell_type": "code",
   "execution_count": null,
   "id": "67b46afb-dbf8-4ac2-9169-901730884c9d",
   "metadata": {},
   "outputs": [],
   "source": [
    "df = df.drop(\"descricao\", axis=1)"
   ]
  },
  {
   "cell_type": "code",
   "execution_count": null,
   "id": "7d9c0835-0e2c-470e-826c-7fdf28c99692",
   "metadata": {},
   "outputs": [],
   "source": [
    "indent = 4\n",
    "\n",
    "# df.to_json(OUTPUT_DATA, orient=\"records\", force_ascii=False, indent=indent)"
   ]
  },
  {
   "cell_type": "markdown",
   "id": "19afaa17-906a-4ac2-9fc9-1a9bdd3a68f7",
   "metadata": {},
   "source": [
    "---"
   ]
  }
 ],
 "metadata": {
  "kernelspec": {
   "display_name": "Python 3 (ipykernel)",
   "language": "python",
   "name": "python3"
  },
  "language_info": {
   "codemirror_mode": {
    "name": "ipython",
    "version": 3
   },
   "file_extension": ".py",
   "mimetype": "text/x-python",
   "name": "python",
   "nbconvert_exporter": "python",
   "pygments_lexer": "ipython3",
   "version": "3.8.12"
  }
 },
 "nbformat": 4,
 "nbformat_minor": 5
}
