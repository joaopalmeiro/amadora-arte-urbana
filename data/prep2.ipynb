{
 "cells": [
  {
   "cell_type": "code",
   "execution_count": null,
   "id": "596aad1b-3339-4680-9496-cb56d369b6b1",
   "metadata": {},
   "outputs": [],
   "source": [
    "import re\n",
    "\n",
    "import janitor\n",
    "import pandas as pd\n",
    "from IPython.display import display\n",
    "from PIL import Image, UnidentifiedImageError"
   ]
  },
  {
   "cell_type": "code",
   "execution_count": null,
   "id": "3f6f4ef6-6d56-417f-b8df-6b4839d81478",
   "metadata": {},
   "outputs": [],
   "source": [
    "RAW_DATA = \"./arte-urbana-manual.xlsx\"\n",
    "OUTPUT_DATA = \"../src/data.json\"\n",
    "IMG_FOLDER = \"../img/raw/pictures/\""
   ]
  },
  {
   "cell_type": "code",
   "execution_count": null,
   "id": "20804a09-0f63-415f-befc-32b471cdf51c",
   "metadata": {},
   "outputs": [],
   "source": [
    "df = pd.read_excel(\n",
    "    RAW_DATA,\n",
    "    # index_col=\"ID\",\n",
    "    verbose=True,\n",
    "    dtype={\"Data\": \"Int64\"},\n",
    ")"
   ]
  },
  {
   "cell_type": "code",
   "execution_count": null,
   "id": "68e23153-532f-4d9c-a736-60800119a942",
   "metadata": {},
   "outputs": [],
   "source": [
    "df.head()"
   ]
  },
  {
   "cell_type": "code",
   "execution_count": null,
   "id": "b641a418-73de-4092-a628-316ca790138a",
   "metadata": {},
   "outputs": [],
   "source": [
    "df.shape"
   ]
  },
  {
   "cell_type": "code",
   "execution_count": null,
   "id": "bbbf4215-be3f-49e0-9bbc-eeb351a47928",
   "metadata": {},
   "outputs": [],
   "source": [
    "# df[\"Localizacao\"].unique()\n",
    "# df[\"Titulo\"].value_counts(dropna=False)\n",
    "# df[\"Freguesia\"].value_counts(dropna=False)\n",
    "# df[\"Freguesia\"].unique()\n",
    "df[\"Tipologia\"].unique()"
   ]
  },
  {
   "cell_type": "markdown",
   "id": "019ba1fa-4ab9-4334-bdfa-65d300d93396",
   "metadata": {},
   "source": [
    "http://geoportal.cm-amadora.pt/graffiti/Arte_Urbana/index.html\n",
    "\n",
    "**Quotation marks**\n",
    "\n",
    "- «\n",
    "- »\n",
    "- “\n",
    "- ”"
   ]
  },
  {
   "cell_type": "code",
   "execution_count": null,
   "id": "20252ad3-ef8f-4011-b979-919bc053c515",
   "metadata": {},
   "outputs": [],
   "source": [
    "df[\"Descricao_manual\"].to_list()"
   ]
  },
  {
   "cell_type": "code",
   "execution_count": null,
   "id": "4d6e3918-4d25-4a49-b295-a7520ef54a42",
   "metadata": {},
   "outputs": [],
   "source": [
    "df.isna().sum()"
   ]
  },
  {
   "cell_type": "code",
   "execution_count": null,
   "id": "e7d5e2a1-bdc6-4621-9055-7041f11b8582",
   "metadata": {},
   "outputs": [],
   "source": [
    "df = df.clean_names()"
   ]
  },
  {
   "cell_type": "code",
   "execution_count": null,
   "id": "1f3c1c46-872a-42a3-9e10-c7122c961a88",
   "metadata": {},
   "outputs": [],
   "source": [
    "df.columns"
   ]
  },
  {
   "cell_type": "code",
   "execution_count": null,
   "id": "1d4a0a35-8511-45a4-8f70-8a3527f4700a",
   "metadata": {},
   "outputs": [],
   "source": [
    "# df[df[\"autoria\"].str.startswith(\"APAURB\")]\n",
    "df[df[\"autoria\"].str.contains(\"Eiffel\")]"
   ]
  },
  {
   "cell_type": "code",
   "execution_count": null,
   "id": "2d288825-7d19-4516-ba08-3bcd5af6e9a0",
   "metadata": {},
   "outputs": [],
   "source": [
    "df.loc[df[\"autoria\"].str.startswith(\"APAURB\"), \"autoria\"] = \"APAURB\""
   ]
  },
  {
   "cell_type": "code",
   "execution_count": null,
   "id": "fe7e5b0c-09ba-47dd-ab40-8abb755989d3",
   "metadata": {},
   "outputs": [],
   "source": [
    "df.loc[df[\"autoria\"].str.contains(\"gvs\", flags=re.IGNORECASE), \"autoria\"] = df.loc[\n",
    "    df[\"autoria\"].str.contains(\"gvs\", flags=re.IGNORECASE), \"autoria\"\n",
    "].str.replace(\"gvs\", \"GVS\", flags=re.IGNORECASE, regex=False)"
   ]
  },
  {
   "cell_type": "code",
   "execution_count": null,
   "id": "d295326f-bdf1-45aa-8c63-feabd3f8f6ca",
   "metadata": {},
   "outputs": [],
   "source": [
    "df.loc[df[\"autoria\"] == \"VFM/GVS\", \"autoria\"] = \"VFM/GVS Crews\""
   ]
  },
  {
   "cell_type": "code",
   "execution_count": null,
   "id": "63f084c9-ff37-4627-946c-1591a9ba21a8",
   "metadata": {},
   "outputs": [],
   "source": [
    "df.loc[df[\"autoria\"].str.contains(\"Gustavo Eiffel\"), \"autoria\"] = df.loc[\n",
    "    df[\"autoria\"].str.contains(\"Gustavo Eiffel\"), \"autoria\"\n",
    "].str.replace(\"Gustavo Eiffel\", \"Gustave Eiffel\", regex=False)"
   ]
  },
  {
   "cell_type": "code",
   "execution_count": null,
   "id": "de9293b9-50f0-4af3-9d64-4fb07929a877",
   "metadata": {},
   "outputs": [],
   "source": [
    "# Aka Corleone\n",
    "# https://regex101.com/\n",
    "\n",
    "df.loc[\n",
    "    df[\"autoria\"].str.match(\"aka\\s?corleone\", flags=re.IGNORECASE), \"autoria\"\n",
    "] = \"Aka Corleone\""
   ]
  },
  {
   "cell_type": "code",
   "execution_count": null,
   "id": "10007d70-9fb7-4ebf-9660-dbcf984abaf9",
   "metadata": {},
   "outputs": [],
   "source": [
    "# df.loc[df[\"autoria\"].str.match(\"aka\\s?corleone\", flags=re.IGNORECASE)]"
   ]
  },
  {
   "cell_type": "code",
   "execution_count": null,
   "id": "05dcf762-a474-4f03-8d0e-608ca292c860",
   "metadata": {},
   "outputs": [],
   "source": [
    "title = \"Plasticus Maritimus\"\n",
    "\n",
    "df.loc[(df[\"autoria\"] == \"Tiago Albuquerque\") & (df[\"id\"] == 137), \"titulo\"] = title"
   ]
  },
  {
   "cell_type": "code",
   "execution_count": null,
   "id": "5ebb3d05-a96e-4d45-b432-486ac647923c",
   "metadata": {},
   "outputs": [],
   "source": [
    "df[\"titulo\"] = df[\"titulo\"].str.strip()\n",
    "df[\"autoria\"] = df[\"autoria\"].str.strip()\n",
    "df[\"localizacao\"] = df[\"localizacao\"].str.strip()\n",
    "# df[\"descricao_manual\"] = df[\"descricao_manual\"].str.strip()"
   ]
  },
  {
   "cell_type": "code",
   "execution_count": null,
   "id": "2e8aa050-9361-40eb-a788-460cc53801a5",
   "metadata": {},
   "outputs": [],
   "source": [
    "df.tail()"
   ]
  },
  {
   "cell_type": "code",
   "execution_count": null,
   "id": "e64baf6b-dc37-4b64-8d48-f81d3122479a",
   "metadata": {},
   "outputs": [],
   "source": [
    "df[\"autoria\"].nunique()"
   ]
  },
  {
   "cell_type": "code",
   "execution_count": null,
   "id": "3dbcc55a-d6a6-4d7f-9b1c-291aece2733f",
   "metadata": {},
   "outputs": [],
   "source": [
    "with pd.option_context(\"display.max_rows\", None):\n",
    "    display(df[\"autoria\"].value_counts(dropna=False))"
   ]
  },
  {
   "cell_type": "code",
   "execution_count": null,
   "id": "67b46afb-dbf8-4ac2-9169-901730884c9d",
   "metadata": {},
   "outputs": [],
   "source": [
    "df = df.drop(\"descricao\", axis=1)"
   ]
  },
  {
   "cell_type": "code",
   "execution_count": null,
   "id": "bfe0da96-f9ec-4abc-baa1-1e41789224e0",
   "metadata": {},
   "outputs": [],
   "source": [
    "# https://pillow.readthedocs.io/en/stable/reference/Image.html#PIL.Image.Image.size\n",
    "sizes = []\n",
    "missing_size = (0, 0)\n",
    "\n",
    "for pic_id in df[\"id\"]:\n",
    "    try:\n",
    "        with Image.open(f\"{IMG_FOLDER}id{pic_id}.jpg\") as im:\n",
    "            sizes.append(im.size)  # (width, height)\n",
    "    except UnidentifiedImageError:\n",
    "        sizes.append(missing_size)\n",
    "        print(f\"✘ id{pic_id}.jpg\")"
   ]
  },
  {
   "cell_type": "code",
   "execution_count": null,
   "id": "6be99210-a0a7-4f15-873c-aa16f72d4200",
   "metadata": {},
   "outputs": [],
   "source": [
    "df[[\"pic_width\", \"pic_height\"]] = sizes"
   ]
  },
  {
   "cell_type": "code",
   "execution_count": null,
   "id": "4b9d7c17-a0ac-4586-b379-8a6626332b3f",
   "metadata": {},
   "outputs": [],
   "source": [
    "df.head()\n",
    "# df.query(\"id == 89\")"
   ]
  },
  {
   "cell_type": "code",
   "execution_count": null,
   "id": "7d52050e-ef9f-410c-8488-c89f11b9e038",
   "metadata": {},
   "outputs": [],
   "source": [
    "df = df.sort_values(\"id\", ignore_index=True)"
   ]
  },
  {
   "cell_type": "code",
   "execution_count": null,
   "id": "7d9c0835-0e2c-470e-826c-7fdf28c99692",
   "metadata": {},
   "outputs": [],
   "source": [
    "indent = 4\n",
    "\n",
    "df.to_json(OUTPUT_DATA, orient=\"records\", force_ascii=False, indent=indent)"
   ]
  },
  {
   "cell_type": "markdown",
   "id": "19afaa17-906a-4ac2-9fc9-1a9bdd3a68f7",
   "metadata": {},
   "source": [
    "---"
   ]
  }
 ],
 "metadata": {
  "kernelspec": {
   "display_name": "Python 3 (ipykernel)",
   "language": "python",
   "name": "python3"
  },
  "language_info": {
   "codemirror_mode": {
    "name": "ipython",
    "version": 3
   },
   "file_extension": ".py",
   "mimetype": "text/x-python",
   "name": "python",
   "nbconvert_exporter": "python",
   "pygments_lexer": "ipython3",
   "version": "3.8.12"
  }
 },
 "nbformat": 4,
 "nbformat_minor": 5
}
