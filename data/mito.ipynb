{
 "cells": [
  {
   "cell_type": "code",
   "execution_count": null,
   "id": "cf2f347c-3fb8-4af8-9125-8e79bcb1bb0d",
   "metadata": {},
   "outputs": [],
   "source": [
    "import mitosheet\n",
    "import pandas as pd"
   ]
  },
  {
   "cell_type": "markdown",
   "id": "c04fe178-69ec-4f07-83af-d3131a1eb862",
   "metadata": {},
   "source": [
    "**Quotation marks**\n",
    "\n",
    "- « »\n",
    "- “ ”"
   ]
  },
  {
   "cell_type": "code",
   "execution_count": null,
   "id": "d823520c-c37b-447e-843a-89a1d680fc2d",
   "metadata": {},
   "outputs": [],
   "source": [
    "OUTPUT_DATA = \"../src/data.json\""
   ]
  },
  {
   "cell_type": "code",
   "execution_count": null,
   "id": "e458b389-0b50-4a3a-8e0c-e8e49ec38384",
   "metadata": {},
   "outputs": [],
   "source": [
    "df = pd.read_json(\n",
    "    OUTPUT_DATA, orient=\"records\", convert_dates=False, dtype={\"data\": \"Int64\"}\n",
    ")"
   ]
  },
  {
   "cell_type": "code",
   "execution_count": null,
   "id": "e088bf68-69db-45a2-a1be-1c5e8fb3a57c",
   "metadata": {},
   "outputs": [],
   "source": [
    "df.dtypes"
   ]
  },
  {
   "cell_type": "code",
   "execution_count": null,
   "id": "c68e5382-2d69-4a25-a98b-a093107431be",
   "metadata": {},
   "outputs": [],
   "source": [
    "mitosheet.sheet(df)"
   ]
  },
  {
   "cell_type": "markdown",
   "id": "9706e3b5-6d93-4c1a-85a7-62bb2a7cebe7",
   "metadata": {},
   "source": [
    "---"
   ]
  }
 ],
 "metadata": {
  "kernelspec": {
   "display_name": "Python 3 (ipykernel)",
   "language": "python",
   "name": "python3"
  },
  "language_info": {
   "codemirror_mode": {
    "name": "ipython",
    "version": 3
   },
   "file_extension": ".py",
   "mimetype": "text/x-python",
   "name": "python",
   "nbconvert_exporter": "python",
   "pygments_lexer": "ipython3",
   "version": "3.8.12"
  }
 },
 "nbformat": 4,
 "nbformat_minor": 5
}
